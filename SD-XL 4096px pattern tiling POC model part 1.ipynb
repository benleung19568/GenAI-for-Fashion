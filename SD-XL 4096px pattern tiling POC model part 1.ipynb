{
 "cells": [
  {
   "cell_type": "code",
   "execution_count": 1,
   "id": "279265f0",
   "metadata": {
    "scrolled": false
   },
   "outputs": [
    {
     "data": {
      "application/vnd.jupyter.widget-view+json": {
       "model_id": "9eb599ad6c0c43849cb215f5a65eca05",
       "version_major": 2,
       "version_minor": 0
      },
      "text/plain": [
       "Loading pipeline components...:   0%|          | 0/7 [00:00<?, ?it/s]"
      ]
     },
     "metadata": {},
     "output_type": "display_data"
    },
    {
     "data": {
      "application/vnd.jupyter.widget-view+json": {
       "model_id": "1a3071967b7d43a29e736e09f7fb0ff2",
       "version_major": 2,
       "version_minor": 0
      },
      "text/plain": [
       "Loading pipeline components...:   0%|          | 0/5 [00:00<?, ?it/s]"
      ]
     },
     "metadata": {},
     "output_type": "display_data"
    },
    {
     "data": {
      "application/vnd.jupyter.widget-view+json": {
       "model_id": "08f3d328117b492bb6c78eeb8f82fe98",
       "version_major": 2,
       "version_minor": 0
      },
      "text/plain": [
       "  0%|          | 0/47 [00:00<?, ?it/s]"
      ]
     },
     "metadata": {},
     "output_type": "display_data"
    },
    {
     "data": {
      "application/vnd.jupyter.widget-view+json": {
       "model_id": "f47f5a1d02434a9390108e65f50d7893",
       "version_major": 2,
       "version_minor": 0
      },
      "text/plain": [
       "  0%|          | 0/13 [00:00<?, ?it/s]"
      ]
     },
     "metadata": {},
     "output_type": "display_data"
    }
   ],
   "source": [
    "######### txt2img by SD XL model & refiner ##########\n",
    "######### Generate pattern for conceptial art & garment / fabric pattern ##########\n",
    "\n",
    "from diffusers import DiffusionPipeline\n",
    "import torch\n",
    "import matplotlib.pyplot as plt\n",
    "import PIL\n",
    "from PIL import Image\n",
    "\n",
    "########## Run if for seamless tiling ############\n",
    "\n",
    "def patch_conv(cls):\n",
    "\tinit = cls.__init__\n",
    "\tdef __init__(self, *args, **kwargs):\n",
    "\t\treturn init(self, *args, **kwargs, padding_mode='circular')\n",
    "\tcls.__init__ = __init__\n",
    "\n",
    "patch_conv(torch.nn.Conv2d)\n",
    "\n",
    "\n",
    "#### load both base & refiner models #####\n",
    "base = DiffusionPipeline.from_pretrained(\n",
    "    \"stabilityai/stable-diffusion-xl-base-1.0\", torch_dtype=torch.float16, variant=\"fp16\", use_safetensors=True\n",
    ")\n",
    "base.to(\"cuda\")\n",
    "refiner = DiffusionPipeline.from_pretrained(\n",
    "    \"stabilityai/stable-diffusion-xl-refiner-1.0\",\n",
    "    text_encoder_2=base.text_encoder_2,\n",
    "    vae=base.vae,\n",
    "    torch_dtype=torch.float16,\n",
    "    use_safetensors=True,\n",
    "    variant=\"fp16\",\n",
    ")\n",
    "refiner.to(\"cuda\")\n",
    "\n",
    "##### Parameter settings ######\n",
    "n_steps = 60\n",
    "high_noise_frac = 0.8\n",
    "num_images_perprompt = 1\n",
    "\n",
    "\n",
    "#### Prompt for pattern generation ####\n",
    "prompt = \"(Damask and dragon pattern:1.3), (Chinese in style:1.1), (Lunar New Year in color tone:1.2), (Absolute Symmetric:1.1), Masterpiece, best quality, ultra-detailed, sharp focus and clear, good contrast, even studio lighting\"\n",
    "negative_prompt = \"deformed, disfigured, duplicate, error, extra arms, extra fingers, extra legs, extra limbs, fused fingers\"\n",
    "img = base(\n",
    "    prompt=prompt,\n",
    "    negative_prompt=negative_prompt,\n",
    "    num_images_per_prompt=num_images_perprompt,\n",
    "    num_inference_steps=n_steps,\n",
    "    denoising_end=high_noise_frac,\n",
    "    output_type=\"latent\",\n",
    ").images\n",
    "\n",
    "for i in img:\n",
    "    img = refiner(\n",
    "        prompt=prompt,\n",
    "        negative_prompt=negative_prompt,\n",
    "        num_images_per_prompt=num_images_perprompt,\n",
    "        num_inference_steps=n_steps,\n",
    "        denoising_start=high_noise_frac,\n",
    "        image=img,\n",
    "    ).images\n",
    "    \n",
    "#### Show the generated image ####\n",
    "import PIL\n",
    "from PIL import Image\n",
    "\n",
    "for i in img:\n",
    "    display(i)"
   ]
  },
  {
   "cell_type": "code",
   "execution_count": 3,
   "id": "963e8d49",
   "metadata": {},
   "outputs": [],
   "source": [
    "######### Save the prefered image ###########\n",
    "img = img[0]\n",
    "img.save(\"C:/Users/benle/Desktop/Pattern editing/Trial/\"+\"XL_Damask_Dragon.png\")"
   ]
  }
 ],
 "metadata": {
  "kernelspec": {
   "display_name": "Python 3 (ipykernel)",
   "language": "python",
   "name": "python3"
  },
  "language_info": {
   "codemirror_mode": {
    "name": "ipython",
    "version": 3
   },
   "file_extension": ".py",
   "mimetype": "text/x-python",
   "name": "python",
   "nbconvert_exporter": "python",
   "pygments_lexer": "ipython3",
   "version": "3.10.9"
  }
 },
 "nbformat": 4,
 "nbformat_minor": 5
}
