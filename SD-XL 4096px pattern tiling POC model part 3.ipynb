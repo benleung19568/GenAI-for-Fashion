{
 "cells": [
  {
   "cell_type": "code",
   "execution_count": null,
   "id": "5183d2e3",
   "metadata": {},
   "outputs": [],
   "source": [
    "###### Image Tiling construction to 4096px #######\n",
    "from PIL import Image, ImageOps\n",
    "import matplotlib.pyplot as plt\n",
    "\n",
    "img1=Image.open(\"C:/Users/benle/Desktop/Pattern editing/Trial/\"+\"XL_Damask_Dragon_2048.png\")\n",
    "img2=ImageOps.flip(img1)\n",
    "img3=ImageOps.mirror(img1)\n",
    "img4=ImageOps.flip(img3)\n",
    "                 \n",
    "img1_size = img1.size\n",
    "img2_size = img2.size\n",
    "img3_size = img3.size\n",
    "img4_size = img4.size   \n",
    "\n",
    "new_image = Image.new('RGB',(2*img1_size[0], 2*img1_size[1]), (256,256,256))\n",
    "new_image.paste(img1,(0,0))\n",
    "new_image.paste(img2,(0,2048))\n",
    "new_image.paste(img3,(2048,0))\n",
    "new_image.paste(img4,(2048,2048))\n",
    "                   \n",
    "new_image.save(\"C:/Users/benle/Desktop/Pattern editing/Trial/\"+\"XL_Damask_Dragon_tiled.png\")\n",
    "display(new_image)"
   ]
  }
 ],
 "metadata": {
  "kernelspec": {
   "display_name": "Python 3 (ipykernel)",
   "language": "python",
   "name": "python3"
  },
  "language_info": {
   "codemirror_mode": {
    "name": "ipython",
    "version": 3
   },
   "file_extension": ".py",
   "mimetype": "text/x-python",
   "name": "python",
   "nbconvert_exporter": "python",
   "pygments_lexer": "ipython3",
   "version": "3.10.9"
  }
 },
 "nbformat": 4,
 "nbformat_minor": 5
}
